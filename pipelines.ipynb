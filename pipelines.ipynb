{
 "cells": [
  {
   "cell_type": "markdown",
   "id": "767b2313-fead-45d7-887c-2442473d0dce",
   "metadata": {},
   "source": [
    "**文本翻译任务**"
   ]
  },
  {
   "cell_type": "markdown",
   "id": "c5a71010-d639-40e1-9ceb-31f98c887eb0",
   "metadata": {},
   "source": [
    "加载模型"
   ]
  },
  {
   "cell_type": "code",
   "execution_count": 4,
   "id": "98ed35ba-2b48-48e1-9e54-134aaf132c93",
   "metadata": {},
   "outputs": [
    {
     "name": "stderr",
     "output_type": "stream",
     "text": [
      "generation_config.json: 100%|██████████| 214/214 [00:00<00:00, 228kB/s]\n",
      "tokenizer_config.json: 100%|██████████| 20.8k/20.8k [00:00<00:00, 7.44MB/s]\n",
      "spiece.model: 100%|██████████| 1.47M/1.47M [00:01<00:00, 1.23MB/s]\n",
      "added_tokens.json: 100%|██████████| 2.59k/2.59k [00:00<00:00, 4.96MB/s]\n",
      "special_tokens_map.json: 100%|██████████| 2.54k/2.54k [00:00<00:00, 5.01MB/s]\n",
      "Special tokens have been added in the vocabulary, make sure the associated word embeddings are fine-tuned or trained.\n"
     ]
    }
   ],
   "source": [
    "from transformers import pipeline\n",
    "\n",
    "translator = pipeline(task=\"translation\", model=\"utrobinmv/t5_translate_en_ru_zh_large_1024\")"
   ]
  },
  {
   "cell_type": "markdown",
   "id": "d2d91099-b0cb-4a3e-86aa-5b7e9677f013",
   "metadata": {},
   "source": [
    "执行翻译任务：俄文翻译为中文"
   ]
  },
  {
   "cell_type": "code",
   "execution_count": 9,
   "id": "58c3789c-4327-47fb-a6d4-addd4826973b",
   "metadata": {},
   "outputs": [
    {
     "data": {
      "text/plain": [
       "[{'translation_text': '再多吃这些柔和的法国杯子。'}]"
      ]
     },
     "execution_count": 9,
     "metadata": {},
     "output_type": "execute_result"
    }
   ],
   "source": [
    "zh_prefix = 'translate to zh: '\n",
    "ru_src_text = zh_prefix + \"Съешь ещё этих мягких французских булок.\"\n",
    "\n",
    "translator(ru_src_text)"
   ]
  },
  {
   "cell_type": "markdown",
   "id": "1a7a6459-2674-46d7-9e13-dbf71197e9bb",
   "metadata": {},
   "source": [
    "将中文翻译为俄文"
   ]
  },
  {
   "cell_type": "code",
   "execution_count": 10,
   "id": "36da226a-8a63-4e67-b1b0-0342915fb52f",
   "metadata": {},
   "outputs": [
    {
     "name": "stderr",
     "output_type": "stream",
     "text": [
      "Your input_length: 23 is bigger than 0.9 * max_length: 20. You might consider increasing your max_length manually, e.g. translator('...', max_length=400)\n"
     ]
    },
    {
     "data": {
      "text/plain": [
       "[{'translation_text': 'Неизвестно, что это за брюки из боевого декора, а животное - медведь!'}]"
      ]
     },
     "execution_count": 10,
     "metadata": {},
     "output_type": "execute_result"
    }
   ],
   "source": [
    "ru_prefix = 'translate to ru: '\n",
    "zh_src_text = ru_prefix + \"战斗名族的不知秋裤为何物，宠物竟然是棕熊！\"\n",
    "\n",
    "translator(zh_src_text)"
   ]
  },
  {
   "cell_type": "markdown",
   "id": "dc6c883c-36d5-4afa-8282-b854366aa708",
   "metadata": {},
   "source": [
    "## 总结：这个翻译模型效果很一般，避坑！"
   ]
  },
  {
   "cell_type": "code",
   "execution_count": null,
   "id": "ad502f3a-8abd-4ed5-b510-8a1d0cb21eea",
   "metadata": {},
   "outputs": [],
   "source": []
  }
 ],
 "metadata": {
  "kernelspec": {
   "display_name": "LLM",
   "language": "python",
   "name": "llm"
  },
  "language_info": {
   "codemirror_mode": {
    "name": "ipython",
    "version": 3
   },
   "file_extension": ".py",
   "mimetype": "text/x-python",
   "name": "python",
   "nbconvert_exporter": "python",
   "pygments_lexer": "ipython3",
   "version": "3.11.7"
  }
 },
 "nbformat": 4,
 "nbformat_minor": 5
}
